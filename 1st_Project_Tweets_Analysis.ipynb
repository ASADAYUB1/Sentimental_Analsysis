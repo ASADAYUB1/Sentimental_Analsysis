{
 "cells": [
  {
   "cell_type": "code",
   "execution_count": 2,
   "id": "4370dd47",
   "metadata": {},
   "outputs": [],
   "source": [
    "tweets = [\n",
    "    \"Wow, what a great day today!! #sunshine\",\n",
    "    \"I feel sad about the things going on around us. #covid19\",\n",
    "    \"I'm really excited to learn Python with @JovianML #zerotopandas\",\n",
    "    \"This is a really nice song. #linkinpark\",\n",
    "    \"The python programming language is useful for data science\",\n",
    "    \"Why do bad things happen to me?\",\n",
    "    \"Apple announces the release of the new iPhone 12. Fans are excited.\",\n",
    "    \"Spent my day with family!! #happy\",\n",
    "    \"Check out my blog post on common string operations in Python. #zerotopandas\",\n",
    "    \"Freecodecamp has great coding tutorials. #skillup\"\n",
    "]"
   ]
  },
  {
   "cell_type": "code",
   "execution_count": 15,
   "id": "61de050d",
   "metadata": {},
   "outputs": [
    {
     "data": {
      "text/plain": [
       "10"
      ]
     },
     "execution_count": 15,
     "metadata": {},
     "output_type": "execute_result"
    }
   ],
   "source": [
    "number_of_tweets = len(tweets)\n",
    "number_of_tweets"
   ]
  },
  {
   "cell_type": "code",
   "execution_count": 4,
   "id": "c695bdca",
   "metadata": {},
   "outputs": [],
   "source": [
    "happy_words = ['great', 'excited', 'happy','nice', 'wonderful', 'amazing', 'good', 'best' ]"
   ]
  },
  {
   "cell_type": "code",
   "execution_count": 5,
   "id": "27b332fa",
   "metadata": {},
   "outputs": [],
   "source": [
    "sad_words = ['sad', 'bad', 'tragic', 'unhappy', 'worst']"
   ]
  },
  {
   "cell_type": "code",
   "execution_count": 6,
   "id": "cd3d715b",
   "metadata": {},
   "outputs": [
    {
     "name": "stdout",
     "output_type": "stream",
     "text": [
      "Number of happy tweets: 6\n"
     ]
    }
   ],
   "source": [
    "number_of_happy_tweets = 0\n",
    "for tweet in tweets:\n",
    "    for word in happy_words:\n",
    "        if word in tweet:\n",
    "            number_of_happy_tweets +=1\n",
    "print('Number of happy tweets:', number_of_happy_tweets)"
   ]
  },
  {
   "cell_type": "code",
   "execution_count": 7,
   "id": "b755e2ef",
   "metadata": {},
   "outputs": [],
   "source": [
    "happy_fraction = number_of_happy_tweets/ number_of_tweets"
   ]
  },
  {
   "cell_type": "code",
   "execution_count": 8,
   "id": "f4b19d0d",
   "metadata": {},
   "outputs": [
    {
     "name": "stdout",
     "output_type": "stream",
     "text": [
      "The fraction of happy tweets is :  0.6\n"
     ]
    }
   ],
   "source": [
    "print('The fraction of happy tweets is : ', happy_fraction)"
   ]
  },
  {
   "cell_type": "code",
   "execution_count": 9,
   "id": "13c5ae2b",
   "metadata": {},
   "outputs": [
    {
     "name": "stdout",
     "output_type": "stream",
     "text": [
      "Number of Sad tweets :  2\n"
     ]
    }
   ],
   "source": [
    "number_of_sad_tweets = 0\n",
    "for tweet in tweets:\n",
    "    for word in sad_words:\n",
    "        if word in tweet:\n",
    "            number_of_sad_tweets += 1\n",
    "print('Number of Sad tweets : ', number_of_sad_tweets)"
   ]
  },
  {
   "cell_type": "code",
   "execution_count": 10,
   "id": "b83f56bf",
   "metadata": {},
   "outputs": [],
   "source": [
    "sad_fraction = number_of_sad_tweets/number_of_tweets"
   ]
  },
  {
   "cell_type": "code",
   "execution_count": 11,
   "id": "d52c5906",
   "metadata": {},
   "outputs": [
    {
     "name": "stdout",
     "output_type": "stream",
     "text": [
      "The fraction of sad tweets is:  0.2\n"
     ]
    }
   ],
   "source": [
    "print('The fraction of sad tweets is: ', sad_fraction)"
   ]
  },
  {
   "cell_type": "code",
   "execution_count": 12,
   "id": "5903074d",
   "metadata": {},
   "outputs": [],
   "source": [
    "sentimental_score = happy_fraction - sad_fraction"
   ]
  },
  {
   "cell_type": "code",
   "execution_count": 13,
   "id": "184a9cf7",
   "metadata": {},
   "outputs": [
    {
     "name": "stdout",
     "output_type": "stream",
     "text": [
      "The sentimental score for the give tweets is  0.39999999999999997\n"
     ]
    }
   ],
   "source": [
    "print('The sentimental score for the give tweets is ', sentimental_score)"
   ]
  },
  {
   "cell_type": "code",
   "execution_count": 14,
   "id": "d2fff2c1",
   "metadata": {},
   "outputs": [
    {
     "name": "stdout",
     "output_type": "stream",
     "text": [
      "The overall sentimental is happy\n"
     ]
    }
   ],
   "source": [
    "if sentimental_score >0:\n",
    "    print('The overall sentimental is happy')\n",
    "else:\n",
    "    print('The overall sentimental is sad')\n",
    "    "
   ]
  },
  {
   "cell_type": "code",
   "execution_count": null,
   "id": "1e4b2c20",
   "metadata": {},
   "outputs": [],
   "source": []
  },
  {
   "cell_type": "code",
   "execution_count": null,
   "id": "40f186c7",
   "metadata": {},
   "outputs": [],
   "source": []
  }
 ],
 "metadata": {
  "kernelspec": {
   "display_name": "Python 3 (ipykernel)",
   "language": "python",
   "name": "python3"
  },
  "language_info": {
   "codemirror_mode": {
    "name": "ipython",
    "version": 3
   },
   "file_extension": ".py",
   "mimetype": "text/x-python",
   "name": "python",
   "nbconvert_exporter": "python",
   "pygments_lexer": "ipython3",
   "version": "3.11.4"
  }
 },
 "nbformat": 4,
 "nbformat_minor": 5
}
